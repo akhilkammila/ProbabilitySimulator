{
 "cells": [
  {
   "cell_type": "markdown",
   "metadata": {},
   "source": [
    "# Goals / Plan\n",
    "\n",
    "- Using regret for the game works, but is slow\n",
    "    - choosing 1 random contract per round only, 1 random action per player\n",
    "    - regret is inaccurance b/c it is based on a random sample from opponent's mixed strategies; imprecise\n",
    "\n",
    "- How can we apply regret minimization WITHOUT random sampling (use precise probabilities)?"
   ]
  },
  {
   "cell_type": "markdown",
   "metadata": {},
   "source": [
    "# Symmetric Regret and Convolutions\n",
    "\n",
    "- example scenario:\n",
    "    - contract is uniform [700, 1300]\n",
    "    - contract is N(1000, 150) - bonus\n",
    "    - 10 players for both\n",
    "\n",
    "- initializations:\n",
    "    - realistically, assume nobody is bidding over 200\n",
    "    - initialize regret of options 1-200 np.zeros(200) --> even probabilities\n",
    "\n",
    "- calculating regret:\n",
    "    - assume we have a 200-length probability vector p\n",
    "    - we want to find the regret of choosing each option based on MIXED STRATEGIES of opponents + CONTRACT PDF\n",
    "        - this is the key, not using random samples, but exact probabilities\n",
    "\n",
    "regret of choosing a value x:\n",
    "- convolution of the other 9 players pdfs over values < x:\n",
    "    - length x, convolve 9 times --> 9x log(9x)\n",
    "    - this is the distribution of the sum of other players' lower bids\n",
    "- how to integrate contract pdf\n",
    "    - integral of [(contract == c) * (convolution cdf < c - x)]\n",
    "    - don't calculate integral, do it discrete\n",
    "    - for uniform distribution, calculate each contract value, then average (600 scenarios)\n",
    "\n",
    "time complexity of calculating regret for value x:\n",
    "- convolution takes 9x log (9x) time\n",
    "- turn pdf into cdf (prefix sum linear time, 9x)\n",
    "- for each contract scenario, find sum of probabilities (600 time)\n",
    "- overall: 9x log(9x) * 600\n",
    "\n",
    "time complexity over all values:\n",
    "- Sum x=1 to x=200 of (9x log(9x) * 600) = 10^8 about\n",
    "- Expressed differently: about max x^2 * players * contract length\n",
    "- Assuming max x is about max(contract) / players * 2\n",
    "- O(max(contract)^2 * contract length)\n",
    "\n",
    "change to contract is [350, 650], 10 players (still feels like enough granularity)\n",
    "- now instead of 10^8, about 10^7 per iteration\n",
    "- iterations converge much quicker, about 100 iterations maybe?"
   ]
  },
  {
   "cell_type": "code",
   "execution_count": 116,
   "metadata": {},
   "outputs": [],
   "source": [
    "import numpy as np\n",
    "import pandas as pd\n",
    "import seaborn as sns\n",
    "import matplotlib.pyplot as plt"
   ]
  },
  {
   "cell_type": "code",
   "execution_count": 117,
   "metadata": {},
   "outputs": [],
   "source": [
    "\"\"\" \n",
    "Variables to define:\n",
    "    provide own reward function (given the single mixed strategy, # other players) --> calculate the reward\n",
    "    support space\n",
    "    number of players\n",
    "\"\"\"\n",
    "class SymmetricRegret:\n",
    "    def __init__(self, num_players, support, rewardFunction, **kwargs):\n",
    "        self.PLAYERS = num_players\n",
    "        self.ACTIONS = support\n",
    "        self.rewardFunction = rewardFunction\n",
    "        self.kwargs = kwargs\n",
    "\n",
    "        self.regret = np.zeros(len(support))\n",
    "        self.last_regret = np.zeros(len(support))\n",
    "    \n",
    "    def get_strategy(self):\n",
    "        ceiling = np.maximum(0, self.regret)\n",
    "        if np.sum(ceiling) == 0: ceiling = np.ones(len(ceiling))\n",
    "        return ceiling / np.sum(ceiling)\n",
    "    \n",
    "    def solve(self, trials, verbose=100):\n",
    "        for i in range(trials):\n",
    "            current_regret = self.rewardFunction(self.ACTIONS, self.get_strategy(), self.PLAYERS - 1, **self.kwargs)\n",
    "            new_regret = self.regret + current_regret\n",
    "\n",
    "            # Prints and breaks\n",
    "            if np.isclose(np.maximum(current_regret, 0), 0, atol=1e-15).all():\n",
    "                print(f\"Breaking at iteration {i}\")\n",
    "                break\n",
    "            if verbose and (i%verbose == 0): print(new_regret)\n",
    "\n",
    "            self.regret = new_regret\n",
    "            self.last_regret = current_regret"
   ]
  },
  {
   "cell_type": "code",
   "execution_count": 118,
   "metadata": {},
   "outputs": [],
   "source": [
    "import numpy as np\n",
    "\n",
    "def convolve_pdf_n_times(p, n):\n",
    "    # Remove leading and trailing zeros\n",
    "    start = np.argmax(p > 0)  # First non-zero index\n",
    "    end = len(p) - np.argmax(p[::-1] > 0)  # Last non-zero index + 1\n",
    "    p_trimmed = p[start:end]\n",
    "\n",
    "    M = len(p_trimmed)\n",
    "\n",
    "    # Calculate the length of the result\n",
    "    out_len = n * (M - 1) + 1\n",
    "    fft_len = 1\n",
    "    while fft_len < out_len:\n",
    "        fft_len <<= 1  # Multiply by 2\n",
    "\n",
    "    # Zero-pad the trimmed array\n",
    "    p_padded = np.zeros(fft_len, dtype=np.float64)\n",
    "    p_padded[:M] = p_trimmed\n",
    "\n",
    "    # FFT, convolution (power), and IFFT\n",
    "    P = np.fft.fft(p_padded)\n",
    "    Pn = P ** n\n",
    "    conv_n = np.fft.ifft(Pn)\n",
    "\n",
    "    # Retain the real part and trim to the desired length\n",
    "    conv_n = np.real_if_close(conv_n, tol=1e5)\n",
    "    conv_n = conv_n[:out_len]\n",
    "\n",
    "    # Add back the effect of trimming\n",
    "    final_result = np.zeros(n * (len(p) - 1) + 1, dtype=np.float64)\n",
    "    final_result[start * n:(start * n) + len(conv_n)] = conv_n\n",
    "\n",
    "    return final_result\n",
    "\n"
   ]
  },
  {
   "cell_type": "code",
   "execution_count": 119,
   "metadata": {},
   "outputs": [],
   "source": [
    "def uniformRegret(actions, strategy, num_players, CONTRACT_MIN, CONTRACT_MAX):\n",
    "    assert len(actions) == len(strategy)\n",
    "\n",
    "    rewards = np.zeros(len(actions))\n",
    "    zero_padded_strategies = np.concatenate([np.zeros(min(actions)), strategy])\n",
    "\n",
    "    for i, x in enumerate(actions):\n",
    "        # find the convolved cdf\n",
    "        convolved = convolve_pdf_n_times(zero_padded_strategies[:x+1], num_players) # we always LOSE the ties\n",
    "        for j in range(len(convolved)-1): convolved[j+1] += convolved[j]\n",
    "\n",
    "        # find the reward\n",
    "        probability = 0\n",
    "        for contract_val in range(CONTRACT_MIN, CONTRACT_MAX + 1):\n",
    "            value_threshold = contract_val - x # convolution needs to sum to <= value threshold, for us to get filled\n",
    "            probability += convolved[value_threshold] if value_threshold < len(convolved) else 1\n",
    "        probability = probability/ (CONTRACT_MAX - CONTRACT_MIN + 1)\n",
    "\n",
    "        # rewards\n",
    "        rewards[i] = probability * x\n",
    "\n",
    "    avg_reward = rewards * strategy\n",
    "    regret = rewards - np.sum(avg_reward)\n",
    "    return regret"
   ]
  },
  {
   "cell_type": "code",
   "execution_count": 120,
   "metadata": {},
   "outputs": [
    {
     "name": "stdout",
     "output_type": "stream",
     "text": [
      "Breaking at iteration 56\n"
     ]
    },
    {
     "data": {
      "text/plain": [
       "array([0.        , 0.        , 0.        , 0.        , 0.        ,\n",
       "       0.42290495, 0.        , 0.        , 0.        , 0.        ,\n",
       "       0.        , 0.        , 0.        , 0.        , 0.        ,\n",
       "       0.        , 0.        , 0.        , 0.        , 0.57709505])"
      ]
     },
     "execution_count": 120,
     "metadata": {},
     "output_type": "execute_result"
    }
   ],
   "source": [
    "NUM_PLAYERS = 10\n",
    "ACTIONS = np.arange(30, 50)\n",
    "\n",
    "r = SymmetricRegret(NUM_PLAYERS, ACTIONS, uniformRegret, CONTRACT_MIN=350, CONTRACT_MAX=650)\n",
    "r.solve(1000, verbose=None)\n",
    "strategy = r.get_strategy()\n",
    "strategy"
   ]
  },
  {
   "cell_type": "code",
   "execution_count": 112,
   "metadata": {},
   "outputs": [
    {
     "data": {
      "text/plain": [
       "<Axes: >"
      ]
     },
     "execution_count": 112,
     "metadata": {},
     "output_type": "execute_result"
    },
    {
     "data": {
      "image/png": "[encoded data removed]",
      "text/plain": [
       "<Figure size 640x480 with 1 Axes>"
      ]
     },
     "metadata": {},
     "output_type": "display_data"
    }
   ],
   "source": [
    "sns.lineplot(x=ACTIONS, y=strategy)"
   ]
  },
  {
   "cell_type": "code",
   "execution_count": 105,
   "metadata": {},
   "outputs": [
    {
     "name": "stdout",
     "output_type": "stream",
     "text": [
      "Breaking at iteration 13\n"
     ]
    },
    {
     "data": {
      "text/plain": [
       "array([0.        , 0.        , 0.95825423, 0.04174577, 0.        ,\n",
       "       0.        , 0.        , 0.        , 0.        ])"
      ]
     },
     "execution_count": 105,
     "metadata": {},
     "output_type": "execute_result"
    }
   ],
   "source": [
    "NUM_PLAYERS = 3\n",
    "ACTIONS = np.arange(1, 10)\n",
    "\n",
    "r = SymmetricRegret(NUM_PLAYERS, ACTIONS, uniformRegret, CONTRACT_MIN=9, CONTRACT_MAX=12)\n",
    "r.solve(1000, verbose=None)\n",
    "strategy = r.get_strategy()\n",
    "strategy"
   ]
  }
 ],
 "metadata": {
  "kernelspec": {
   "display_name": "probstat",
   "language": "python",
   "name": "python3"
  },
  "language_info": {
   "codemirror_mode": {
    "name": "ipython",
    "version": 3
   },
   "file_extension": ".py",
   "mimetype": "text/x-python",
   "name": "python",
   "nbconvert_exporter": "python",
   "pygments_lexer": "ipython3",
   "version": "3.11.5"
  }
 },
 "nbformat": 4,
 "nbformat_minor": 2
}
