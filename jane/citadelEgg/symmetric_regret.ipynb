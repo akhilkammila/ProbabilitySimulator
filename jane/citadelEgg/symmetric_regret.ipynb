{
 "cells": [
  {
   "cell_type": "markdown",
   "metadata": {},
   "source": [
    "# Goals / Plan\n",
    "\n",
    "- Using regret for the game works, but is slow\n",
    "    - choosing 1 random contract per round only, 1 random action per player\n",
    "    - regret is inaccurance b/c it is based on a random sample from opponent's mixed strategies; imprecise\n",
    "\n",
    "- How can we apply regret minimization WITHOUT random sampling (use precise probabilities)?"
   ]
  },
  {
   "cell_type": "markdown",
   "metadata": {},
   "source": [
    "# Symmetric Regret and Convolutions\n",
    "\n",
    "- example scenario:\n",
    "    - contract is uniform [700, 1300]\n",
    "    - contract is N(1000, 150) - bonus\n",
    "    - 10 players for both\n",
    "\n",
    "- initializations:\n",
    "    - realistically, assume nobody is bidding over 200\n",
    "    - initialize regret of options 1-200 np.zeros(200) --> even probabilities\n",
    "\n",
    "- calculating regret:\n",
    "    - assume we have a 200-length probability vector p\n",
    "    - we want to find the regret of choosing each option based on MIXED STRATEGIES of opponents + CONTRACT PDF\n",
    "        - this is the key, not using random samples, but exact probabilities\n",
    "\n",
    "regret of choosing a value x:\n",
    "- convolution of the other 9 players pdfs over values < x:\n",
    "    - length x, convolve 9 times --> 9x log(9x)\n",
    "    - this is the distribution of the sum of other players' lower bids\n",
    "- how to integrate contract pdf\n",
    "    - integral of [(contract == c) * (convolution cdf < c - x)]\n",
    "    - don't calculate integral, do it discrete\n",
    "    - for uniform distribution, calculate each contract value, then average (600 scenarios)\n",
    "\n",
    "time complexity of calculating regret for value x:\n",
    "- convolution takes 9x log (9x) time\n",
    "- turn pdf into cdf (prefix sum linear time, 9x)\n",
    "- for each contract scenario, find sum of probabilities (600 time)\n",
    "- overall: 9x log(9x) * 600\n",
    "\n",
    "time complexity over all values:\n",
    "- Sum x=1 to x=200 of (9x log(9x) * 600) = 10^8 about\n",
    "- Expressed differently: about max x^2 * players * contract length\n",
    "- Assuming max x is about max(contract) / players * 2\n",
    "- O(max(contract)^2 * contract length)\n",
    "\n",
    "change to contract is [350, 650], 10 players (still feels like enough granularity)\n",
    "- now instead of 10^8, about 10^7 per iteration\n",
    "- iterations converge much quicker, about 100 iterations maybe?"
   ]
  },
  {
   "cell_type": "markdown",
   "metadata": {},
   "source": []
  }
 ],
 "metadata": {
  "language_info": {
   "name": "python"
  }
 },
 "nbformat": 4,
 "nbformat_minor": 2
}
