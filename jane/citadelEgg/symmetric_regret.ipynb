{
 "cells": [
  {
   "cell_type": "markdown",
   "metadata": {},
   "source": [
    "# Goals / Plan\n",
    "\n",
    "- Using regret for the game works, but is slow\n",
    "    - choosing 1 random contract per round only, 1 random action per player\n",
    "    - regret is inaccurance b/c it is based on a random sample from opponent's mixed strategies; imprecise\n",
    "\n",
    "- How can we apply regret minimization WITHOUT random sampling (use precise probabilities)?"
   ]
  },
  {
   "cell_type": "markdown",
   "metadata": {},
   "source": [
    "# Symmetric Regret and Convolutions\n",
    "\n",
    "- example scenario:\n",
    "    - contract is uniform [700, 1300]\n",
    "    - contract is N(1000, 150) - bonus\n",
    "    - 10 players for both\n",
    "\n",
    "- initializations:\n",
    "    - realistically, assume nobody is bidding over 200\n",
    "    - initialize regret of options 1-200 np.zeros(200) --> even probabilities\n",
    "\n",
    "- calculating regret:\n",
    "    - assume we have a 200-length probability vector p\n",
    "    - we want to find the regret of choosing each option based on MIXED STRATEGIES of opponents + CONTRACT PDF\n",
    "        - this is the key, not using random samples, but exact probabilities\n",
    "\n",
    "regret of choosing a value x:\n",
    "- convolution of the other 9 players pdfs over values < x:\n",
    "    - length x, convolve 9 times --> 9x log(9x)\n",
    "    - this is the distribution of the sum of other players' lower bids\n",
    "- how to integrate contract pdf\n",
    "    - integral of [(contract == c) * (convolution cdf < c - x)]\n",
    "    - don't calculate integral, do it discrete\n",
    "    - for uniform distribution, calculate each contract value, then average (600 scenarios)\n",
    "\n",
    "time complexity of calculating regret for value x:\n",
    "- convolution takes 9x log (9x) time\n",
    "- turn pdf into cdf (prefix sum linear time, 9x)\n",
    "- for each contract scenario, find sum of probabilities (600 time)\n",
    "- overall: 9x log(9x) * 600\n",
    "\n",
    "time complexity over all values:\n",
    "- Sum x=1 to x=200 of (9x log(9x) * 600) = 10^8 about\n",
    "- Expressed differently: about max x^2 * players * contract length\n",
    "- Assuming max x is about max(contract) / players * 2\n",
    "- O(max(contract)^2 * contract length)\n",
    "\n",
    "change to contract is [350, 650], 10 players (still feels like enough granularity)\n",
    "- now instead of 10^8, about 10^7 per iteration\n",
    "- iterations converge much quicker, about 100 iterations maybe?"
   ]
  },
  {
   "cell_type": "code",
   "execution_count": 27,
   "metadata": {},
   "outputs": [],
   "source": [
    "import numpy as np\n",
    "import pandas as pd\n",
    "import seaborn as sns\n",
    "import matplotlib.pyplot as plt\n",
    "import copy\n",
    "import time\n",
    "COLORS = sns.color_palette(\"pastel\")"
   ]
  },
  {
   "cell_type": "code",
   "execution_count": 23,
   "metadata": {},
   "outputs": [],
   "source": [
    "\"\"\" \n",
    "Variables to define:\n",
    "    provide own reward function (given the single mixed strategy, # other players) --> calculate the reward\n",
    "    support space\n",
    "    number of players\n",
    "\"\"\"\n",
    "class SymmetricRegret:\n",
    "    def __init__(self, num_players, support, contractFunction):\n",
    "        self.PLAYERS = num_players\n",
    "        self.ACTIONS = support\n",
    "        self.contractFunction = contractFunction\n",
    "\n",
    "        self.regret = np.zeros(len(support))\n",
    "        self.last_regret = np.zeros(len(support))\n",
    "    \n",
    "    def convolve_pdf_n_times(self, p, n):\n",
    "        p = np.array(p, dtype=np.float64)\n",
    "        p[0] = 1 - np.sum(p[1:]) if np.sum(p) < 1 else p[0]\n",
    "\n",
    "        M = len(p)\n",
    "        out_len = n * (M - 1) + 1\n",
    "        \n",
    "        fft_len = 2**int(np.ceil(np.log2(out_len)))\n",
    "\n",
    "        p_padded = np.zeros(fft_len, dtype=np.float64)\n",
    "        p_padded[:M] = p\n",
    "\n",
    "        Pn = np.fft.fft(p_padded) ** n\n",
    "        conv_n = np.fft.ifft(Pn).real\n",
    "        return conv_n[:out_len]\n",
    "    \n",
    "    def regretFunction(self, actions, strategy, num_players, contract_distribution):\n",
    "        assert len(actions) == len(strategy)\n",
    "        rewards = np.zeros(len(actions))\n",
    "        zero_padded_strategies = np.concatenate([np.zeros(min(actions)), strategy])\n",
    "\n",
    "        for i, x in enumerate(actions):\n",
    "            convolved = self.convolve_pdf_n_times(zero_padded_strategies[:x+1], num_players) # we always LOSE the ties\n",
    "            convolved = np.cumsum(convolved)\n",
    "\n",
    "            # find the reward\n",
    "            probability = 0\n",
    "            for contract_prob, contract_val in contract_distribution:\n",
    "                value_threshold = contract_val - x # convolution needs to sum to <= value threshold, for us to get filled\n",
    "\n",
    "                if value_threshold < 0: continue\n",
    "                probability += contract_prob * (convolved[value_threshold] if value_threshold < len(convolved) else 1)\n",
    "\n",
    "            # rewards\n",
    "            rewards[i] = probability * x\n",
    "\n",
    "        avg_reward = rewards * strategy\n",
    "        regret = rewards - np.sum(avg_reward)\n",
    "        return regret\n",
    "    \n",
    "    def get_strategy(self):\n",
    "        ceiling = np.maximum(0, self.regret)\n",
    "        if np.sum(ceiling) == 0: ceiling = np.ones(len(ceiling))\n",
    "        strategy = ceiling / np.sum(ceiling)\n",
    "        return strategy\n",
    "    \n",
    "    def solve(self, trials, verbose=None):\n",
    "        for i in range(trials):\n",
    "            strategy = self.get_strategy()\n",
    "\n",
    "            current_regret = self.regretFunction(self.ACTIONS, strategy, self.PLAYERS - 1, self.contractFunction)\n",
    " \n",
    "            new_regret = self.regret + current_regret\n",
    "            # Prints and breaks\n",
    "            if np.isclose(np.maximum(current_regret, 0), 0, atol=1e-3).all():\n",
    "                print(f\"Breaking at iteration {i}\")\n",
    "                break\n",
    "            if verbose and (i%verbose == 0): print(new_regret)\n",
    "\n",
    "            self.regret = new_regret\n",
    "            self.last_regret = current_regret\n",
    "\n",
    "    def output_strategy(self):\n",
    "        nonzero_actions = []\n",
    "        for action, probability in zip(self.ACTIONS, self.get_strategy()):\n",
    "            tol = 1e-4\n",
    "            if probability < tol: continue\n",
    "            nonzero_actions.append((action, probability))\n",
    "        print(nonzero_actions)"
   ]
  },
  {
   "cell_type": "code",
   "execution_count": 31,
   "metadata": {},
   "outputs": [
    {
     "name": "stdout",
     "output_type": "stream",
     "text": [
      "Breaking at iteration 16\n",
      "Breaking at iteration 174\n"
     ]
    },
    {
     "data": {
      "text/plain": [
       "Text(0.5, 1.0, 'Dist. from 100 is 40')"
      ]
     },
     "execution_count": 31,
     "metadata": {},
     "output_type": "execute_result"
    },
    {
     "data": {
      "image/png": "[encoded data removed]",
      "text/plain": [
       "<Figure size 640x480 with 1 Axes>"
      ]
     },
     "metadata": {},
     "output_type": "display_data"
    }
   ],
   "source": [
    "# Investigate how contract polarization affects Equilibrium\n",
    "NUM_PLAYERS = 10\n",
    "for i in range(5):\n",
    "    lo, hi = 100 - i*10, 100 + i*10\n",
    "    contract = [(0.5, lo), (0.5, hi)]\n",
    "    ACTIONS = np.arange(lo//NUM_PLAYERS,30)\n",
    "\n",
    "    r = SymmetricRegret(NUM_PLAYERS, ACTIONS, contract)\n",
    "    r.solve(1000, verbose=None)\n",
    "    strategy = r.get_strategy()\n",
    "\n",
    "    sns.lineplot(x=ACTIONS, y=strategy, color=COLORS[i], label=i*10)\n",
    "\n",
    "plt.title(f'Dist. from 100 is {i*10}')"
   ]
  },
  {
   "cell_type": "code",
   "execution_count": null,
   "metadata": {},
   "outputs": [],
   "source": [
    "# Investigate how # players affects equilibrium\n",
    "\n",
    "for players in [2,3,5,10,20]:\n",
    "    NUM_PLAYERS = i\n",
    "    contract = [(0.5, 5*players), (0.5,15*players)]\n",
    "    ACTIONS = np.arange(lo//NUM_PLAYERS,30)\n",
    "\n",
    "    r = SymmetricRegret(NUM_PLAYERS, ACTIONS, contract)\n",
    "    r.solve(1000, verbose=None)\n",
    "    strategy = r.get_strategy()\n",
    "\n",
    "    sns.lineplot(x=ACTIONS, y=strategy, color=COLORS[i], label=i*10)\n",
    "\n",
    "plt.title(f'Dist. from 100 is {i*10}')"
   ]
  }
 ],
 "metadata": {
  "kernelspec": {
   "display_name": "probstat",
   "language": "python",
   "name": "python3"
  },
  "language_info": {
   "codemirror_mode": {
    "name": "ipython",
    "version": 3
   },
   "file_extension": ".py",
   "mimetype": "text/x-python",
   "name": "python",
   "nbconvert_exporter": "python",
   "pygments_lexer": "ipython3",
   "version": "3.11.5"
  }
 },
 "nbformat": 4,
 "nbformat_minor": 2
}
