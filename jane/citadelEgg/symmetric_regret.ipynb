{
 "cells": [
  {
   "cell_type": "markdown",
   "metadata": {},
   "source": [
    "# Goals / Plan\n",
    "\n",
    "- Using regret for the game works, but is slow\n",
    "    - choosing 1 random contract per round only, 1 random action per player\n",
    "    - regret is inaccurance b/c it is based on a random sample from opponent's mixed strategies; imprecise\n",
    "\n",
    "- How can we apply regret minimization WITHOUT random sampling (use precise probabilities)?"
   ]
  },
  {
   "cell_type": "markdown",
   "metadata": {},
   "source": [
    "# Symmetric Regret and Convolutions\n",
    "\n",
    "- example scenario:\n",
    "    - contract is uniform [700, 1300]\n",
    "    - contract is N(1000, 150) - bonus\n",
    "    - 10 players for both\n",
    "\n",
    "- initializations:\n",
    "    - realistically, assume nobody is bidding over 200\n",
    "    - initialize regret of options 1-200 np.zeros(200) --> even probabilities\n",
    "\n",
    "- calculating regret:\n",
    "    - assume we have a 200-length probability vector p\n",
    "    - we want to find the regret of choosing each option based on MIXED STRATEGIES of opponents + CONTRACT PDF\n",
    "        - this is the key, not using random samples, but exact probabilities\n",
    "\n",
    "regret of choosing a value x:\n",
    "- convolution of the other 9 players pdfs over values < x:\n",
    "    - length x, convolve 9 times --> 9x log(9x)\n",
    "    - this is the distribution of the sum of other players' lower bids\n",
    "- how to integrate contract pdf\n",
    "    - integral of [(contract == c) * (convolution cdf < c - x)]\n",
    "    - don't calculate integral, do it discrete\n",
    "    - for uniform distribution, calculate each contract value, then average (600 scenarios)\n",
    "\n",
    "time complexity of calculating regret for value x:\n",
    "- convolution takes 9x log (9x) time\n",
    "- turn pdf into cdf (prefix sum linear time, 9x)\n",
    "- for each contract scenario, find sum of probabilities (600 time)\n",
    "- overall: 9x log(9x) * 600\n",
    "\n",
    "time complexity over all values:\n",
    "- Sum x=1 to x=200 of (9x log(9x) * 600) = 10^8 about\n",
    "- Expressed differently: about max x^2 * players * contract length\n",
    "- Assuming max x is about max(contract) / players * 2\n",
    "- O(max(contract)^2 * contract length)\n",
    "\n",
    "change to contract is [350, 650], 10 players (still feels like enough granularity)\n",
    "- now instead of 10^8, about 10^7 per iteration\n",
    "- iterations converge much quicker, about 100 iterations maybe?"
   ]
  },
  {
   "cell_type": "code",
   "execution_count": 291,
   "metadata": {},
   "outputs": [],
   "source": [
    "import numpy as np\n",
    "import pandas as pd\n",
    "import seaborn as sns\n",
    "import matplotlib.pyplot as plt\n",
    "import copy"
   ]
  },
  {
   "cell_type": "code",
   "execution_count": 292,
   "metadata": {},
   "outputs": [],
   "source": [
    "def convolve_pdf_n_times(p, n):\n",
    "    \"\"\"\n",
    "    Convolve the discrete pdf `p` with itself `n` times (i.i.d. sum),\n",
    "    using FFT-based polynomial exponentiation.\n",
    "\n",
    "    Returns a 1D NumPy array of length len_out = n*(len(p)-1) + 1,\n",
    "    which is the pmf of the sum of `n` i.i.d. random variables with pmf p.\n",
    "    \"\"\"\n",
    "    p = copy.copy(p)\n",
    "\n",
    "    # Ensure that it is valid\n",
    "    # if np.sum(p) > 1.01: p = p / np.sum(p)\n",
    "    if np.sum(p) < 1: p[0] = 1 - np.sum(p)\n",
    "\n",
    "    # Length of the original pmf\n",
    "    M = len(p)\n",
    "    \n",
    "    # Output length needed to hold n-fold convolution without wrap-around\n",
    "    out_len = n*(M-1) + 1\n",
    "    \n",
    "    # Next power-of-two (or just next convenient length) for FFT\n",
    "    # This helps FFT efficiency\n",
    "    fft_len = 1\n",
    "    while fft_len < out_len:\n",
    "        fft_len <<= 1  # multiply by 2\n",
    "    \n",
    "    # Zero-pad p to length fft_len\n",
    "    p_padded = np.zeros(fft_len, dtype=np.float64)\n",
    "    p_padded[:M] = p\n",
    "    \n",
    "    # FFT\n",
    "    P = np.fft.fft(p_padded)\n",
    "    \n",
    "    # Raise to the n-th power, elementwise\n",
    "    Pn = P ** n\n",
    "    \n",
    "    # Inverse FFT\n",
    "    # The result should be real, but we'll take np.real_if_close just in case\n",
    "    conv_n = np.fft.ifft(Pn)\n",
    "    conv_n = np.real_if_close(conv_n, tol=1e5)\n",
    "    \n",
    "    # Now conv_n has length fft_len, but we only need the first out_len samples\n",
    "    conv_n = conv_n[:out_len]\n",
    "    \n",
    "    return conv_n"
   ]
  },
  {
   "cell_type": "code",
   "execution_count": 297,
   "metadata": {},
   "outputs": [],
   "source": [
    "\"\"\" \n",
    "Variables to define:\n",
    "    provide own reward function (given the single mixed strategy, # other players) --> calculate the reward\n",
    "    support space\n",
    "    number of players\n",
    "\"\"\"\n",
    "class SymmetricRegret:\n",
    "    def __init__(self, num_players, support, rewardFunction, **kwargs):\n",
    "        self.PLAYERS = num_players\n",
    "        self.ACTIONS = support\n",
    "        self.rewardFunction = rewardFunction\n",
    "        self.kwargs = kwargs\n",
    "\n",
    "        self.regret = np.zeros(len(support))\n",
    "        self.last_regret = np.zeros(len(support))\n",
    "    \n",
    "    def get_strategy(self):\n",
    "        ceiling = np.maximum(0, self.regret)\n",
    "        if np.sum(ceiling) == 0: ceiling = np.ones(len(ceiling))\n",
    "        strategy = ceiling / np.sum(ceiling)\n",
    "        if np.sum(strategy) > 1.1: print(\"error here even\")\n",
    "        return strategy\n",
    "    \n",
    "    def solve(self, trials, verbose=None):\n",
    "        for i in range(trials):\n",
    "            strategy = self.get_strategy()\n",
    "            current_regret = self.rewardFunction(self.ACTIONS, strategy, self.PLAYERS - 1, **self.kwargs)\n",
    "            new_regret = self.regret + current_regret\n",
    "\n",
    "            # Prints and breaks\n",
    "            if np.isclose(np.maximum(current_regret, 0), 0, atol=1e-3).all():\n",
    "                print(f\"Breaking at iteration {i}\")\n",
    "                break\n",
    "            if verbose and (i%verbose == 0): print(new_regret)\n",
    "\n",
    "            self.regret = new_regret\n",
    "            self.last_regret = current_regret\n",
    "    \n",
    "    def output_strategy(self):\n",
    "        nonzero_actions = []\n",
    "        for action, probability in zip(self.ACTIONS, self.get_strategy()):\n",
    "            tol = 1e-4\n",
    "            if probability < tol: continue\n",
    "            nonzero_actions.append((action, probability))\n",
    "        print(nonzero_actions)"
   ]
  },
  {
   "cell_type": "code",
   "execution_count": 298,
   "metadata": {},
   "outputs": [],
   "source": [
    "def regretFunction(actions, strategy, num_players, contract_distribution):\n",
    "    assert len(actions) == len(strategy)\n",
    "    rewards = np.zeros(len(actions))\n",
    "    zero_padded_strategies = np.concatenate([np.zeros(min(actions)), strategy])\n",
    "\n",
    "    for i, x in enumerate(actions):\n",
    "        convolved = convolve_pdf_n_times(zero_padded_strategies[:x+1], num_players) # we always LOSE the ties\n",
    "        for j in range(len(convolved)-1): convolved[j+1] += convolved[j]\n",
    "\n",
    "        # find the reward\n",
    "        probability = 0\n",
    "        for contract_prob, contract_val in contract_distribution:\n",
    "            value_threshold = contract_val - x # convolution needs to sum to <= value threshold, for us to get filled\n",
    "            probability += contract_prob * (convolved[value_threshold] if value_threshold < len(convolved) else 1)\n",
    "\n",
    "        # rewards\n",
    "        rewards[i] = probability * x\n",
    "\n",
    "    avg_reward = rewards * strategy\n",
    "    regret = rewards - np.sum(avg_reward)\n",
    "    return regret"
   ]
  },
  {
   "cell_type": "code",
   "execution_count": null,
   "metadata": {},
   "outputs": [
    {
     "name": "stdout",
     "output_type": "stream",
     "text": [
      "[(70, 0.619109734359291), (71, 0.3808902656407091)]\n"
     ]
    }
   ],
   "source": [
    "NUM_PLAYERS = 10\n",
    "ACTIONS = np.arange(30, 200)\n",
    "\n",
    "lo, hi = 350, 450\n",
    "contract = [(1/(hi-lo+1), i) for i in range(lo, hi+1)]\n",
    "\n",
    "r = SymmetricRegret(NUM_PLAYERS, ACTIONS, regretFunction, contract_distribution=contract)\n",
    "r.solve(1000, verbose=None)\n",
    "strategy = r.get_strategy()\n",
    "r.output_strategy()"
   ]
  },
  {
   "cell_type": "code",
   "execution_count": 166,
   "metadata": {},
   "outputs": [
    {
     "data": {
      "text/plain": [
       "<Axes: >"
      ]
     },
     "execution_count": 166,
     "metadata": {},
     "output_type": "execute_result"
    },
    {
     "data": {
      "image/png": "[encoded data removed]",
      "text/plain": [
       "<Figure size 640x480 with 1 Axes>"
      ]
     },
     "metadata": {},
     "output_type": "display_data"
    }
   ],
   "source": [
    "sns.lineplot(x=ACTIONS, y=strategy)"
   ]
  },
  {
   "cell_type": "code",
   "execution_count": 296,
   "metadata": {},
   "outputs": [
    {
     "name": "stdout",
     "output_type": "stream",
     "text": [
      "[(5, 1.0)]\n"
     ]
    }
   ],
   "source": [
    "NUM_PLAYERS = 2\n",
    "ACTIONS = np.arange(1, 11)\n",
    "\n",
    "lo, hi = 10, 10\n",
    "contract = [(1/(hi-lo+1), i) for i in range(lo, hi+1)]\n",
    "\n",
    "r = SymmetricRegret(NUM_PLAYERS, ACTIONS, regretFunction, contract_distribution=contract)\n",
    "r.solve(1000, verbose=None)\n",
    "strategy = r.get_strategy()\n",
    "r.output_strategy()"
   ]
  },
  {
   "cell_type": "code",
   "execution_count": 280,
   "metadata": {},
   "outputs": [
    {
     "data": {
      "text/plain": [
       "array([0., 0., 0., 0., 0., 0., 0., 0., 0., 1.])"
      ]
     },
     "execution_count": 280,
     "metadata": {},
     "output_type": "execute_result"
    }
   ],
   "source": [
    "strategy"
   ]
  },
  {
   "cell_type": "code",
   "execution_count": 285,
   "metadata": {},
   "outputs": [
    {
     "name": "stdout",
     "output_type": "stream",
     "text": [
      "[0. 0. 0. 0. 0. 0. 0. 0. 0. 1.] [0. 0. 0. 0. 0. 0. 0. 0. 0. 0. 1.]\n",
      "1 [1. 1.]\n",
      "[1. 0. 0. 0. 0. 0. 0. 0. 0. 0. 1.]\n",
      "[1. 0.]\n",
      "2 [1. 1. 1.]\n",
      "[1. 0. 0. 0. 0. 0. 0. 0. 0. 0. 1.]\n",
      "[1. 0. 0.]\n",
      "3 [1. 1. 1. 1.]\n",
      "[1. 0. 0. 0. 0. 0. 0. 0. 0. 0. 1.]\n",
      "[1. 0. 0. 0.]\n",
      "4 [1. 1. 1. 1. 1.]\n",
      "[1. 0. 0. 0. 0. 0. 0. 0. 0. 0. 1.]\n",
      "[1. 0. 0. 0. 0.]\n",
      "5 [1. 1. 1. 1. 1. 1.]\n",
      "[1. 0. 0. 0. 0. 0. 0. 0. 0. 0. 1.]\n",
      "[1. 0. 0. 0. 0. 0.]\n",
      "6 [1. 1. 1. 1. 1. 1. 1.]\n",
      "[1. 0. 0. 0. 0. 0. 0. 0. 0. 0. 1.]\n",
      "[1. 0. 0. 0. 0. 0. 0.]\n",
      "7 [1. 1. 1. 1. 1. 1. 1. 1.]\n",
      "[1. 0. 0. 0. 0. 0. 0. 0. 0. 0. 1.]\n",
      "[1. 0. 0. 0. 0. 0. 0. 0.]\n",
      "8 [1. 1. 1. 1. 1. 1. 1. 1. 1.]\n",
      "[1. 0. 0. 0. 0. 0. 0. 0. 0. 0. 1.]\n",
      "[1. 0. 0. 0. 0. 0. 0. 0. 0.]\n",
      "9 [1. 1. 1. 1. 1. 1. 1. 1. 1. 1.]\n",
      "[1. 0. 0. 0. 0. 0. 0. 0. 0. 0. 1.]\n",
      "[1. 0. 0. 0. 0. 0. 0. 0. 0. 0.]\n",
      "10 [1. 1. 1. 1. 1. 1. 1. 1. 1. 1. 2.]\n",
      "[1. 0. 0. 0. 0. 0. 0. 0. 0. 0. 1.]\n",
      "[1. 0. 0. 0. 0. 0. 0. 0. 0. 0. 1.]\n"
     ]
    },
    {
     "data": {
      "text/plain": [
       "array([-9., -8., -7., -6., -5., -4., -3., -2., -1.,  0.])"
      ]
     },
     "execution_count": 285,
     "metadata": {},
     "output_type": "execute_result"
    }
   ],
   "source": [
    "regretFunction(ACTIONS, strategy, 1, contract)"
   ]
  }
 ],
 "metadata": {
  "kernelspec": {
   "display_name": "probstat",
   "language": "python",
   "name": "python3"
  },
  "language_info": {
   "codemirror_mode": {
    "name": "ipython",
    "version": 3
   },
   "file_extension": ".py",
   "mimetype": "text/x-python",
   "name": "python",
   "nbconvert_exporter": "python",
   "pygments_lexer": "ipython3",
   "version": "3.11.5"
  }
 },
 "nbformat": 4,
 "nbformat_minor": 2
}
