{
 "cells": [
  {
   "cell_type": "code",
   "execution_count": 11,
   "metadata": {},
   "outputs": [],
   "source": [
    "\"\"\" \n",
    "We aim to solve the simplest game (contract is 1000 fixed), 10 players using regret minimization\n",
    "Goal: get cfr running on known solution game, before shifting to dif. contracts\n",
    "\n",
    "Using regret minimization mentioned here:\n",
    "    yt vid - https://www.youtube.com/watch?v=Wa-fRIBGZZI\n",
    "    associated github - https://github.com/IanSullivan/PokerCFR/blob/main/RockPaperScissors.py\n",
    "\"\"\"\n",
    "\n",
    "import numpy as np\n",
    "import seaborn as sns\n",
    "import matplotlib.pyplot as plt\n",
    "\n",
    "\n",
    "class RegretMinimization:\n",
    "    def __init__(self):\n",
    "        self.NUM_PLAYERS = 9\n",
    "        self.NUM_ACTIONS = 30\n",
    "        self.possible_actions = np.arange(self.NUM_ACTIONS) # 0 to 101\n",
    "        \n",
    "        self.regret_sums = np.zeros(shape=(self.NUM_PLAYERS, self.NUM_ACTIONS))\n",
    "        self.strategy_sums = np.zeros(shape=(self.NUM_PLAYERS, self.NUM_ACTIONS))\n",
    "\n",
    "    # Gets strategy from regret sum\n",
    "    def get_strategy(self, regret_sum):\n",
    "        new_sum = np.clip(regret_sum, a_min=0, a_max=None)\n",
    "        normalizing_sum = np.sum(new_sum)\n",
    "        if normalizing_sum > 0:\n",
    "            new_sum /= normalizing_sum\n",
    "        else:\n",
    "            new_sum = np.repeat(1/self.NUM_ACTIONS, self.NUM_ACTIONS)\n",
    "        return new_sum\n",
    "    \n",
    "    # Only used at very end; finds the average strategy used throughout\n",
    "    def get_average_strategy(self, strategy_sum):\n",
    "        average_strategy = np.zeros(self.NUM_ACTIONS)\n",
    "        normalizing_sum = sum(strategy_sum)\n",
    "        for a in range(self.NUM_ACTIONS):\n",
    "            if normalizing_sum > 0:\n",
    "                average_strategy[a] = strategy_sum[a] / normalizing_sum\n",
    "            else:\n",
    "                average_strategy[a] = 1.0 / self.NUM_ACTIONS\n",
    "        return np.round(average_strategy, decimals=3)\n",
    "    \n",
    "    def graph_average_strategies(self):\n",
    "        colors = plt.cm.tab10(np.linspace(0, 1, self.NUM_PLAYERS))\n",
    "        for p in range(self.NUM_PLAYERS):\n",
    "            strategy = self.get_average_strategy(self.strategy_sums[p])\n",
    "            sns.lineplot(strategy, color=colors[p])\n",
    "        plt.show()\n",
    "\n",
    "    def get_action(self, strategy):\n",
    "        return np.random.choice(self.possible_actions, p=strategy)\n",
    "\n",
    "    # Based on others' actions array, find my utility\n",
    "    def get_reward(self, my_action, opponent_action):\n",
    "\n",
    "        # changing contract to be 15 or 45, instead of 50\n",
    "        contractVals = [25,75]\n",
    "        totalReward = 0\n",
    "\n",
    "        for contract in contractVals:\n",
    "            lessTotal = np.sum(np.where(opponent_action < my_action, opponent_action, 0))\n",
    "            countSame = np.count_nonzero(np.array(opponent_action) == my_action)\n",
    "\n",
    "            remainingCash = contract - lessTotal\n",
    "            reward = 0\n",
    "            if my_action <= remainingCash:\n",
    "                available_fill = remainingCash//my_action if my_action > 0 else self.NUM_PLAYERS\n",
    "                probChosen = min(1, 1/(1+countSame) * available_fill)\n",
    "                reward = my_action * probChosen\n",
    "            totalReward += reward\n",
    "        return totalReward/len(contractVals)\n",
    "\n",
    "    def train(self, iterations):\n",
    "\n",
    "        for _ in range(iterations):\n",
    "            # Get each players actions, update strategy sums\n",
    "            actions = np.zeros(self.NUM_PLAYERS)\n",
    "            for player in range(self.NUM_PLAYERS):\n",
    "                strategy = self.get_strategy(self.regret_sums[player])\n",
    "                self.strategy_sums[player] += strategy\n",
    "                my_action = self.get_action(strategy)\n",
    "\n",
    "                actions[player] = my_action\n",
    "\n",
    "            # Get each players reward / regrets\n",
    "            for player in range(self.NUM_PLAYERS):\n",
    "                my_action = actions[player]\n",
    "                others_actions = np.delete(actions, player)\n",
    "                my_reward = self.get_reward(my_action, others_actions)\n",
    "\n",
    "                for a in range(self.NUM_ACTIONS):\n",
    "                    my_regret = self.get_reward(a, others_actions) - my_reward\n",
    "                    self.regret_sums[player, a] += my_regret"
   ]
  },
  {
   "cell_type": "code",
   "execution_count": 12,
   "metadata": {},
   "outputs": [
    {
     "name": "stdout",
     "output_type": "stream",
     "text": [
      "player 0 policy: [0.    0.    0.    0.    0.    0.    0.997 0.    0.    0.    0.002 0.001\n",
      " 0.    0.    0.    0.    0.    0.    0.    0.    0.    0.    0.    0.\n",
      " 0.    0.    0.    0.    0.    0.   ]\n",
      "player 1 policy: [0.    0.    0.    0.    0.    0.    0.005 0.    0.    0.    0.012 0.276\n",
      " 0.696 0.    0.    0.01  0.    0.    0.    0.    0.    0.    0.    0.\n",
      " 0.    0.    0.    0.    0.    0.   ]\n",
      "player 2 policy: [0.    0.    0.    0.    0.    0.003 0.985 0.    0.    0.    0.01  0.001\n",
      " 0.    0.    0.    0.    0.    0.    0.    0.    0.    0.    0.    0.\n",
      " 0.    0.    0.    0.    0.    0.   ]\n",
      "player 3 policy: [0.    0.    0.    0.    0.    0.049 0.875 0.    0.    0.    0.071 0.005\n",
      " 0.    0.    0.    0.    0.    0.    0.    0.    0.    0.    0.    0.\n",
      " 0.    0.    0.    0.    0.    0.   ]\n",
      "player 4 policy: [0.    0.    0.    0.    0.    0.    0.999 0.    0.    0.    0.    0.\n",
      " 0.    0.    0.    0.    0.    0.    0.    0.    0.    0.    0.    0.\n",
      " 0.    0.    0.    0.    0.    0.   ]\n",
      "player 5 policy: [0.    0.    0.    0.    0.    0.052 0.02  0.    0.    0.    0.127 0.8\n",
      " 0.    0.    0.    0.    0.    0.    0.    0.    0.    0.    0.    0.\n",
      " 0.    0.    0.    0.    0.    0.   ]\n",
      "player 6 policy: [0.    0.    0.    0.    0.    0.049 0.004 0.    0.    0.    0.094 0.847\n",
      " 0.    0.    0.005 0.    0.    0.    0.    0.    0.    0.    0.    0.\n",
      " 0.    0.    0.    0.    0.    0.   ]\n",
      "player 7 policy: [0.    0.    0.    0.    0.    0.012 0.96  0.    0.    0.    0.023 0.003\n",
      " 0.    0.    0.    0.    0.    0.    0.    0.    0.    0.    0.    0.\n",
      " 0.    0.    0.    0.    0.    0.   ]\n",
      "player 8 policy: [0.    0.    0.    0.    0.    0.023 0.009 0.    0.    0.    0.089 0.863\n",
      " 0.    0.    0.015 0.    0.    0.    0.    0.    0.    0.    0.    0.\n",
      " 0.    0.    0.    0.    0.    0.   ]\n"
     ]
    },
    {
     "data": {
      "image/png": "[encoded data removed]",
      "text/plain": [
       "<Figure size 640x480 with 1 Axes>"
      ]
     },
     "metadata": {},
     "output_type": "display_data"
    }
   ],
   "source": [
    "trainer = RegretMinimization()\n",
    "trainer.train(10000)\n",
    "\n",
    "for p in range(trainer.NUM_PLAYERS):\n",
    "    policy = trainer.get_average_strategy(trainer.strategy_sums[p])\n",
    "    print(f'player {p} policy:', policy)\n",
    "trainer.graph_average_strategies()"
   ]
  },
  {
   "cell_type": "code",
   "execution_count": 4,
   "metadata": {},
   "outputs": [
    {
     "name": "stdout",
     "output_type": "stream",
     "text": [
      "[0. 0. 0. 0. 0. 1. 0. 0. 0. 0. 0. 0. 0. 0. 0. 0. 0. 0. 0. 0. 0. 0. 0. 0.\n",
      " 0. 0. 0. 0. 0. 0.]\n",
      "[0. 0. 0. 0. 0. 0. 0. 0. 0. 0. 1. 0. 0. 0. 0. 0. 0. 0. 0. 0. 0. 0. 0. 0.\n",
      " 0. 0. 0. 0. 0. 0.]\n",
      "[0. 0. 0. 0. 0. 1. 0. 0. 0. 0. 0. 0. 0. 0. 0. 0. 0. 0. 0. 0. 0. 0. 0. 0.\n",
      " 0. 0. 0. 0. 0. 0.]\n",
      "[0. 0. 0. 0. 0. 0. 0. 0. 0. 0. 1. 0. 0. 0. 0. 0. 0. 0. 0. 0. 0. 0. 0. 0.\n",
      " 0. 0. 0. 0. 0. 0.]\n",
      "[0. 0. 0. 0. 0. 0. 0. 0. 0. 0. 1. 0. 0. 0. 0. 0. 0. 0. 0. 0. 0. 0. 0. 0.\n",
      " 0. 0. 0. 0. 0. 0.]\n",
      "[0. 0. 0. 0. 0. 0. 0. 0. 0. 0. 1. 0. 0. 0. 0. 0. 0. 0. 0. 0. 0. 0. 0. 0.\n",
      " 0. 0. 0. 0. 0. 0.]\n",
      "[0. 0. 0. 0. 0. 1. 0. 0. 0. 0. 0. 0. 0. 0. 0. 0. 0. 0. 0. 0. 0. 0. 0. 0.\n",
      " 0. 0. 0. 0. 0. 0.]\n",
      "[0. 0. 0. 0. 0. 0. 0. 0. 0. 0. 1. 0. 0. 0. 0. 0. 0. 0. 0. 0. 0. 0. 0. 0.\n",
      " 0. 0. 0. 0. 0. 0.]\n",
      "[0. 0. 0. 0. 0. 1. 0. 0. 0. 0. 0. 0. 0. 0. 0. 0. 0. 0. 0. 0. 0. 0. 0. 0.\n",
      " 0. 0. 0. 0. 0. 0.]\n",
      "[0. 0. 0. 0. 0. 1. 0. 0. 0. 0. 0. 0. 0. 0. 0. 0. 0. 0. 0. 0. 0. 0. 0. 0.\n",
      " 0. 0. 0. 0. 0. 0.]\n"
     ]
    }
   ],
   "source": [
    "for regret in trainer.regret_sums:\n",
    "    strategy = trainer.get_strategy(regret)\n",
    "    print(np.round(strategy, 3))"
   ]
  },
  {
   "cell_type": "code",
   "execution_count": 10,
   "metadata": {},
   "outputs": [
    {
     "data": {
      "text/plain": [
       "5.0"
      ]
     },
     "execution_count": 10,
     "metadata": {},
     "output_type": "execute_result"
    }
   ],
   "source": [
    "trainer.get_reward(10, np.array([5,5,5,5,5,10,10,10,10]))"
   ]
  }
 ],
 "metadata": {
  "kernelspec": {
   "display_name": "probstat",
   "language": "python",
   "name": "python3"
  },
  "language_info": {
   "codemirror_mode": {
    "name": "ipython",
    "version": 3
   },
   "file_extension": ".py",
   "mimetype": "text/x-python",
   "name": "python",
   "nbconvert_exporter": "python",
   "pygments_lexer": "ipython3",
   "version": "3.11.5"
  }
 },
 "nbformat": 4,
 "nbformat_minor": 2
}
